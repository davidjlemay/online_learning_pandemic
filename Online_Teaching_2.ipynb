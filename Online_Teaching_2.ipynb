{
 "cells": [
  {
   "cell_type": "code",
   "execution_count": 1,
   "metadata": {},
   "outputs": [],
   "source": [
    "import pandas as pd"
   ]
  },
  {
   "cell_type": "code",
   "execution_count": 2,
   "metadata": {},
   "outputs": [],
   "source": [
    "import numpy as np"
   ]
  },
  {
   "cell_type": "code",
   "execution_count": 3,
   "metadata": {},
   "outputs": [],
   "source": [
    "import networkx as nx\n",
    "from networkx.algorithms import community"
   ]
  },
  {
   "cell_type": "code",
   "execution_count": 4,
   "metadata": {},
   "outputs": [],
   "source": [
    "import matplotlib.pyplot as plt"
   ]
  },
  {
   "cell_type": "code",
   "execution_count": 5,
   "metadata": {},
   "outputs": [],
   "source": [
    "df = pd.read_csv('~/Downloads/OnlineTeaching_2.csv')"
   ]
  },
  {
   "cell_type": "code",
   "execution_count": 6,
   "metadata": {},
   "outputs": [
    {
     "data": {
      "text/html": [
       "<div>\n",
       "<style scoped>\n",
       "    .dataframe tbody tr th:only-of-type {\n",
       "        vertical-align: middle;\n",
       "    }\n",
       "\n",
       "    .dataframe tbody tr th {\n",
       "        vertical-align: top;\n",
       "    }\n",
       "\n",
       "    .dataframe thead th {\n",
       "        text-align: right;\n",
       "    }\n",
       "</style>\n",
       "<table border=\"1\" class=\"dataframe\">\n",
       "  <thead>\n",
       "    <tr style=\"text-align: right;\">\n",
       "      <th></th>\n",
       "      <th>user_id</th>\n",
       "      <th>status_id</th>\n",
       "      <th>created_at</th>\n",
       "      <th>screen_name</th>\n",
       "      <th>text</th>\n",
       "      <th>source</th>\n",
       "      <th>display_text_width</th>\n",
       "      <th>reply_to_status_id</th>\n",
       "      <th>reply_to_user_id</th>\n",
       "      <th>reply_to_screen_name</th>\n",
       "      <th>...</th>\n",
       "      <th>favourites_count</th>\n",
       "      <th>account_created_at</th>\n",
       "      <th>verified</th>\n",
       "      <th>profile_url</th>\n",
       "      <th>profile_expanded_url</th>\n",
       "      <th>account_lang</th>\n",
       "      <th>profile_banner_url</th>\n",
       "      <th>profile_background_url</th>\n",
       "      <th>profile_image_url</th>\n",
       "      <th>stripped_text</th>\n",
       "    </tr>\n",
       "    <tr>\n",
       "      <th>user_id</th>\n",
       "      <th></th>\n",
       "      <th></th>\n",
       "      <th></th>\n",
       "      <th></th>\n",
       "      <th></th>\n",
       "      <th></th>\n",
       "      <th></th>\n",
       "      <th></th>\n",
       "      <th></th>\n",
       "      <th></th>\n",
       "      <th></th>\n",
       "      <th></th>\n",
       "      <th></th>\n",
       "      <th></th>\n",
       "      <th></th>\n",
       "      <th></th>\n",
       "      <th></th>\n",
       "      <th></th>\n",
       "      <th></th>\n",
       "      <th></th>\n",
       "      <th></th>\n",
       "    </tr>\n",
       "  </thead>\n",
       "  <tbody>\n",
       "    <tr>\n",
       "      <th>2835944929</th>\n",
       "      <td>2835944929</td>\n",
       "      <td>1246242094638936065</td>\n",
       "      <td>2020-04-04T01:04:04Z</td>\n",
       "      <td>pgpittoni</td>\n",
       "      <td>Grades are meaningless without feedback.\\nSo, ...</td>\n",
       "      <td>Twitter for Android</td>\n",
       "      <td>219</td>\n",
       "      <td>NaN</td>\n",
       "      <td>NaN</td>\n",
       "      <td>NaN</td>\n",
       "      <td>...</td>\n",
       "      <td>449</td>\n",
       "      <td>2014-09-30T16:29:09Z</td>\n",
       "      <td>False</td>\n",
       "      <td>https://t.co/dHgVSPh2MC</td>\n",
       "      <td>http://www.paolapittoni.com</td>\n",
       "      <td>NaN</td>\n",
       "      <td>https://pbs.twimg.com/profile_banners/28359449...</td>\n",
       "      <td>http://abs.twimg.com/images/themes/theme1/bg.png</td>\n",
       "      <td>http://pbs.twimg.com/profile_images/5175207969...</td>\n",
       "      <td>Grades are meaningless without feedback.\\nSo, ...</td>\n",
       "    </tr>\n",
       "    <tr>\n",
       "      <th>40054452</th>\n",
       "      <td>40054452</td>\n",
       "      <td>1246241329623060480</td>\n",
       "      <td>2020-04-04T01:01:01Z</td>\n",
       "      <td>PearsonNorthAm</td>\n",
       "      <td>Discover easy digital tools and tactics you ca...</td>\n",
       "      <td>Sprinklr</td>\n",
       "      <td>175</td>\n",
       "      <td>NaN</td>\n",
       "      <td>NaN</td>\n",
       "      <td>NaN</td>\n",
       "      <td>...</td>\n",
       "      <td>9830</td>\n",
       "      <td>2009-05-14T18:31:37Z</td>\n",
       "      <td>True</td>\n",
       "      <td>https://t.co/ABB3kFzkZy</td>\n",
       "      <td>https://www.pearson.com</td>\n",
       "      <td>NaN</td>\n",
       "      <td>https://pbs.twimg.com/profile_banners/40054452...</td>\n",
       "      <td>http://abs.twimg.com/images/themes/theme1/bg.png</td>\n",
       "      <td>http://pbs.twimg.com/profile_images/6840094151...</td>\n",
       "      <td>Discover easy digital tools and tactics you ca...</td>\n",
       "    </tr>\n",
       "    <tr>\n",
       "      <th>40054452</th>\n",
       "      <td>40054452</td>\n",
       "      <td>1245010979085340678</td>\n",
       "      <td>2020-03-31T15:32:03Z</td>\n",
       "      <td>PearsonNorthAm</td>\n",
       "      <td>With online engagement increasing, it's a good...</td>\n",
       "      <td>Sprinklr</td>\n",
       "      <td>172</td>\n",
       "      <td>NaN</td>\n",
       "      <td>NaN</td>\n",
       "      <td>NaN</td>\n",
       "      <td>...</td>\n",
       "      <td>9830</td>\n",
       "      <td>2009-05-14T18:31:37Z</td>\n",
       "      <td>True</td>\n",
       "      <td>https://t.co/ABB3kFzkZy</td>\n",
       "      <td>https://www.pearson.com</td>\n",
       "      <td>NaN</td>\n",
       "      <td>https://pbs.twimg.com/profile_banners/40054452...</td>\n",
       "      <td>http://abs.twimg.com/images/themes/theme1/bg.png</td>\n",
       "      <td>http://pbs.twimg.com/profile_images/6840094151...</td>\n",
       "      <td>With online engagement increasing, it's a good...</td>\n",
       "    </tr>\n",
       "    <tr>\n",
       "      <th>40054452</th>\n",
       "      <td>40054452</td>\n",
       "      <td>1244672238869262342</td>\n",
       "      <td>2020-03-30T17:06:01Z</td>\n",
       "      <td>PearsonNorthAm</td>\n",
       "      <td>10 ways to engage &amp;amp; instruct students remo...</td>\n",
       "      <td>Sprinklr</td>\n",
       "      <td>159</td>\n",
       "      <td>NaN</td>\n",
       "      <td>NaN</td>\n",
       "      <td>NaN</td>\n",
       "      <td>...</td>\n",
       "      <td>9830</td>\n",
       "      <td>2009-05-14T18:31:37Z</td>\n",
       "      <td>True</td>\n",
       "      <td>https://t.co/ABB3kFzkZy</td>\n",
       "      <td>https://www.pearson.com</td>\n",
       "      <td>NaN</td>\n",
       "      <td>https://pbs.twimg.com/profile_banners/40054452...</td>\n",
       "      <td>http://abs.twimg.com/images/themes/theme1/bg.png</td>\n",
       "      <td>http://pbs.twimg.com/profile_images/6840094151...</td>\n",
       "      <td>10 ways to engage &amp;; instruct students remotel...</td>\n",
       "    </tr>\n",
       "    <tr>\n",
       "      <th>40054452</th>\n",
       "      <td>40054452</td>\n",
       "      <td>1244229067743940614</td>\n",
       "      <td>2020-03-29T11:45:01Z</td>\n",
       "      <td>PearsonNorthAm</td>\n",
       "      <td>Working from home can be quite the adjustment....</td>\n",
       "      <td>Sprinklr</td>\n",
       "      <td>219</td>\n",
       "      <td>NaN</td>\n",
       "      <td>NaN</td>\n",
       "      <td>NaN</td>\n",
       "      <td>...</td>\n",
       "      <td>9830</td>\n",
       "      <td>2009-05-14T18:31:37Z</td>\n",
       "      <td>True</td>\n",
       "      <td>https://t.co/ABB3kFzkZy</td>\n",
       "      <td>https://www.pearson.com</td>\n",
       "      <td>NaN</td>\n",
       "      <td>https://pbs.twimg.com/profile_banners/40054452...</td>\n",
       "      <td>http://abs.twimg.com/images/themes/theme1/bg.png</td>\n",
       "      <td>http://pbs.twimg.com/profile_images/6840094151...</td>\n",
       "      <td>Working from home can be quite the adjustment....</td>\n",
       "    </tr>\n",
       "    <tr>\n",
       "      <th>...</th>\n",
       "      <td>...</td>\n",
       "      <td>...</td>\n",
       "      <td>...</td>\n",
       "      <td>...</td>\n",
       "      <td>...</td>\n",
       "      <td>...</td>\n",
       "      <td>...</td>\n",
       "      <td>...</td>\n",
       "      <td>...</td>\n",
       "      <td>...</td>\n",
       "      <td>...</td>\n",
       "      <td>...</td>\n",
       "      <td>...</td>\n",
       "      <td>...</td>\n",
       "      <td>...</td>\n",
       "      <td>...</td>\n",
       "      <td>...</td>\n",
       "      <td>...</td>\n",
       "      <td>...</td>\n",
       "      <td>...</td>\n",
       "      <td>...</td>\n",
       "    </tr>\n",
       "    <tr>\n",
       "      <th>1136271795030560768</th>\n",
       "      <td>1136271795030560768</td>\n",
       "      <td>1243517870954500097</td>\n",
       "      <td>2020-03-27T12:38:58Z</td>\n",
       "      <td>keysforfitness</td>\n",
       "      <td>Putting work in on my canvas classes for my st...</td>\n",
       "      <td>Twitter for Android</td>\n",
       "      <td>266</td>\n",
       "      <td>NaN</td>\n",
       "      <td>NaN</td>\n",
       "      <td>NaN</td>\n",
       "      <td>...</td>\n",
       "      <td>292</td>\n",
       "      <td>2019-06-05T14:01:21Z</td>\n",
       "      <td>False</td>\n",
       "      <td>https://t.co/SZLyYQjWv3</td>\n",
       "      <td>http://www.keysforfitness.com</td>\n",
       "      <td>NaN</td>\n",
       "      <td>NaN</td>\n",
       "      <td>NaN</td>\n",
       "      <td>http://pbs.twimg.com/profile_images/1136272492...</td>\n",
       "      <td>Putting work in on my canvas classes for my st...</td>\n",
       "    </tr>\n",
       "    <tr>\n",
       "      <th>1064767899498414080</th>\n",
       "      <td>1064767899498414080</td>\n",
       "      <td>1243512625612435458</td>\n",
       "      <td>2020-03-27T12:18:07Z</td>\n",
       "      <td>UsamaSh78048569</td>\n",
       "      <td>I need this type of luck to comprehend online ...</td>\n",
       "      <td>Twitter for Android</td>\n",
       "      <td>91</td>\n",
       "      <td>NaN</td>\n",
       "      <td>NaN</td>\n",
       "      <td>NaN</td>\n",
       "      <td>...</td>\n",
       "      <td>94</td>\n",
       "      <td>2018-11-20T06:30:24Z</td>\n",
       "      <td>False</td>\n",
       "      <td>NaN</td>\n",
       "      <td>NaN</td>\n",
       "      <td>NaN</td>\n",
       "      <td>https://pbs.twimg.com/profile_banners/10647678...</td>\n",
       "      <td>NaN</td>\n",
       "      <td>http://pbs.twimg.com/profile_images/1229030300...</td>\n",
       "      <td>I need this type of luck to comprehend online ...</td>\n",
       "    </tr>\n",
       "    <tr>\n",
       "      <th>441078562</th>\n",
       "      <td>441078562</td>\n",
       "      <td>1243509274279632896</td>\n",
       "      <td>2020-03-27T12:04:48Z</td>\n",
       "      <td>M_Cainer</td>\n",
       "      <td>I feel it is important to reach out so I will ...</td>\n",
       "      <td>Twitter Web App</td>\n",
       "      <td>277</td>\n",
       "      <td>NaN</td>\n",
       "      <td>NaN</td>\n",
       "      <td>NaN</td>\n",
       "      <td>...</td>\n",
       "      <td>70</td>\n",
       "      <td>2011-12-19T18:28:55Z</td>\n",
       "      <td>False</td>\n",
       "      <td>https://t.co/FZqS0oY3Mt</td>\n",
       "      <td>http://www.matteocainer.com</td>\n",
       "      <td>NaN</td>\n",
       "      <td>NaN</td>\n",
       "      <td>http://abs.twimg.com/images/themes/theme1/bg.png</td>\n",
       "      <td>http://pbs.twimg.com/profile_images/7691851795...</td>\n",
       "      <td>I feel it is important to reach out so I will ...</td>\n",
       "    </tr>\n",
       "    <tr>\n",
       "      <th>16839146</th>\n",
       "      <td>16839146</td>\n",
       "      <td>1243508773819486208</td>\n",
       "      <td>2020-03-27T12:02:49Z</td>\n",
       "      <td>vwitt</td>\n",
       "      <td>I was so happy to hear that one of my ESL stud...</td>\n",
       "      <td>Twitter Web App</td>\n",
       "      <td>183</td>\n",
       "      <td>NaN</td>\n",
       "      <td>NaN</td>\n",
       "      <td>NaN</td>\n",
       "      <td>...</td>\n",
       "      <td>176</td>\n",
       "      <td>2008-10-18T14:03:52Z</td>\n",
       "      <td>False</td>\n",
       "      <td>https://t.co/mo8JdHHsCs</td>\n",
       "      <td>http://www.mythirtyone.com/witt31</td>\n",
       "      <td>NaN</td>\n",
       "      <td>https://pbs.twimg.com/profile_banners/16839146...</td>\n",
       "      <td>http://abs.twimg.com/images/themes/theme9/bg.gif</td>\n",
       "      <td>http://pbs.twimg.com/profile_images/4440864751...</td>\n",
       "      <td>I was so happy to hear that one of my ESL stud...</td>\n",
       "    </tr>\n",
       "    <tr>\n",
       "      <th>16839146</th>\n",
       "      <td>16839146</td>\n",
       "      <td>1243508773819486208</td>\n",
       "      <td>2020-03-27T12:02:49Z</td>\n",
       "      <td>vwitt</td>\n",
       "      <td>I was so happy to hear that one of my ESL stud...</td>\n",
       "      <td>Twitter Web App</td>\n",
       "      <td>183</td>\n",
       "      <td>NaN</td>\n",
       "      <td>NaN</td>\n",
       "      <td>NaN</td>\n",
       "      <td>...</td>\n",
       "      <td>176</td>\n",
       "      <td>2008-10-18T14:03:52Z</td>\n",
       "      <td>False</td>\n",
       "      <td>https://t.co/mo8JdHHsCs</td>\n",
       "      <td>http://www.mythirtyone.com/witt31</td>\n",
       "      <td>NaN</td>\n",
       "      <td>https://pbs.twimg.com/profile_banners/16839146...</td>\n",
       "      <td>http://abs.twimg.com/images/themes/theme9/bg.gif</td>\n",
       "      <td>http://pbs.twimg.com/profile_images/4440864751...</td>\n",
       "      <td>I was so happy to hear that one of my ESL stud...</td>\n",
       "    </tr>\n",
       "  </tbody>\n",
       "</table>\n",
       "<p>1786 rows × 91 columns</p>\n",
       "</div>"
      ],
      "text/plain": [
       "                                 user_id            status_id  \\\n",
       "user_id                                                         \n",
       "2835944929                    2835944929  1246242094638936065   \n",
       "40054452                        40054452  1246241329623060480   \n",
       "40054452                        40054452  1245010979085340678   \n",
       "40054452                        40054452  1244672238869262342   \n",
       "40054452                        40054452  1244229067743940614   \n",
       "...                                  ...                  ...   \n",
       "1136271795030560768  1136271795030560768  1243517870954500097   \n",
       "1064767899498414080  1064767899498414080  1243512625612435458   \n",
       "441078562                      441078562  1243509274279632896   \n",
       "16839146                        16839146  1243508773819486208   \n",
       "16839146                        16839146  1243508773819486208   \n",
       "\n",
       "                               created_at      screen_name  \\\n",
       "user_id                                                      \n",
       "2835944929           2020-04-04T01:04:04Z        pgpittoni   \n",
       "40054452             2020-04-04T01:01:01Z   PearsonNorthAm   \n",
       "40054452             2020-03-31T15:32:03Z   PearsonNorthAm   \n",
       "40054452             2020-03-30T17:06:01Z   PearsonNorthAm   \n",
       "40054452             2020-03-29T11:45:01Z   PearsonNorthAm   \n",
       "...                                   ...              ...   \n",
       "1136271795030560768  2020-03-27T12:38:58Z   keysforfitness   \n",
       "1064767899498414080  2020-03-27T12:18:07Z  UsamaSh78048569   \n",
       "441078562            2020-03-27T12:04:48Z         M_Cainer   \n",
       "16839146             2020-03-27T12:02:49Z            vwitt   \n",
       "16839146             2020-03-27T12:02:49Z            vwitt   \n",
       "\n",
       "                                                                  text  \\\n",
       "user_id                                                                  \n",
       "2835944929           Grades are meaningless without feedback.\\nSo, ...   \n",
       "40054452             Discover easy digital tools and tactics you ca...   \n",
       "40054452             With online engagement increasing, it's a good...   \n",
       "40054452             10 ways to engage &amp; instruct students remo...   \n",
       "40054452             Working from home can be quite the adjustment....   \n",
       "...                                                                ...   \n",
       "1136271795030560768  Putting work in on my canvas classes for my st...   \n",
       "1064767899498414080  I need this type of luck to comprehend online ...   \n",
       "441078562            I feel it is important to reach out so I will ...   \n",
       "16839146             I was so happy to hear that one of my ESL stud...   \n",
       "16839146             I was so happy to hear that one of my ESL stud...   \n",
       "\n",
       "                                  source  display_text_width  \\\n",
       "user_id                                                        \n",
       "2835944929           Twitter for Android                 219   \n",
       "40054452                        Sprinklr                 175   \n",
       "40054452                        Sprinklr                 172   \n",
       "40054452                        Sprinklr                 159   \n",
       "40054452                        Sprinklr                 219   \n",
       "...                                  ...                 ...   \n",
       "1136271795030560768  Twitter for Android                 266   \n",
       "1064767899498414080  Twitter for Android                  91   \n",
       "441078562                Twitter Web App                 277   \n",
       "16839146                 Twitter Web App                 183   \n",
       "16839146                 Twitter Web App                 183   \n",
       "\n",
       "                     reply_to_status_id  reply_to_user_id  \\\n",
       "user_id                                                     \n",
       "2835944929                          NaN               NaN   \n",
       "40054452                            NaN               NaN   \n",
       "40054452                            NaN               NaN   \n",
       "40054452                            NaN               NaN   \n",
       "40054452                            NaN               NaN   \n",
       "...                                 ...               ...   \n",
       "1136271795030560768                 NaN               NaN   \n",
       "1064767899498414080                 NaN               NaN   \n",
       "441078562                           NaN               NaN   \n",
       "16839146                            NaN               NaN   \n",
       "16839146                            NaN               NaN   \n",
       "\n",
       "                    reply_to_screen_name  ...  favourites_count  \\\n",
       "user_id                                   ...                     \n",
       "2835944929                           NaN  ...               449   \n",
       "40054452                             NaN  ...              9830   \n",
       "40054452                             NaN  ...              9830   \n",
       "40054452                             NaN  ...              9830   \n",
       "40054452                             NaN  ...              9830   \n",
       "...                                  ...  ...               ...   \n",
       "1136271795030560768                  NaN  ...               292   \n",
       "1064767899498414080                  NaN  ...                94   \n",
       "441078562                            NaN  ...                70   \n",
       "16839146                             NaN  ...               176   \n",
       "16839146                             NaN  ...               176   \n",
       "\n",
       "                       account_created_at  verified              profile_url  \\\n",
       "user_id                                                                        \n",
       "2835944929           2014-09-30T16:29:09Z     False  https://t.co/dHgVSPh2MC   \n",
       "40054452             2009-05-14T18:31:37Z      True  https://t.co/ABB3kFzkZy   \n",
       "40054452             2009-05-14T18:31:37Z      True  https://t.co/ABB3kFzkZy   \n",
       "40054452             2009-05-14T18:31:37Z      True  https://t.co/ABB3kFzkZy   \n",
       "40054452             2009-05-14T18:31:37Z      True  https://t.co/ABB3kFzkZy   \n",
       "...                                   ...       ...                      ...   \n",
       "1136271795030560768  2019-06-05T14:01:21Z     False  https://t.co/SZLyYQjWv3   \n",
       "1064767899498414080  2018-11-20T06:30:24Z     False                      NaN   \n",
       "441078562            2011-12-19T18:28:55Z     False  https://t.co/FZqS0oY3Mt   \n",
       "16839146             2008-10-18T14:03:52Z     False  https://t.co/mo8JdHHsCs   \n",
       "16839146             2008-10-18T14:03:52Z     False  https://t.co/mo8JdHHsCs   \n",
       "\n",
       "                                  profile_expanded_url  account_lang  \\\n",
       "user_id                                                                \n",
       "2835944929                 http://www.paolapittoni.com           NaN   \n",
       "40054452                       https://www.pearson.com           NaN   \n",
       "40054452                       https://www.pearson.com           NaN   \n",
       "40054452                       https://www.pearson.com           NaN   \n",
       "40054452                       https://www.pearson.com           NaN   \n",
       "...                                                ...           ...   \n",
       "1136271795030560768      http://www.keysforfitness.com           NaN   \n",
       "1064767899498414080                                NaN           NaN   \n",
       "441078562                  http://www.matteocainer.com           NaN   \n",
       "16839146             http://www.mythirtyone.com/witt31           NaN   \n",
       "16839146             http://www.mythirtyone.com/witt31           NaN   \n",
       "\n",
       "                                                    profile_banner_url  \\\n",
       "user_id                                                                  \n",
       "2835944929           https://pbs.twimg.com/profile_banners/28359449...   \n",
       "40054452             https://pbs.twimg.com/profile_banners/40054452...   \n",
       "40054452             https://pbs.twimg.com/profile_banners/40054452...   \n",
       "40054452             https://pbs.twimg.com/profile_banners/40054452...   \n",
       "40054452             https://pbs.twimg.com/profile_banners/40054452...   \n",
       "...                                                                ...   \n",
       "1136271795030560768                                                NaN   \n",
       "1064767899498414080  https://pbs.twimg.com/profile_banners/10647678...   \n",
       "441078562                                                          NaN   \n",
       "16839146             https://pbs.twimg.com/profile_banners/16839146...   \n",
       "16839146             https://pbs.twimg.com/profile_banners/16839146...   \n",
       "\n",
       "                                               profile_background_url  \\\n",
       "user_id                                                                 \n",
       "2835944929           http://abs.twimg.com/images/themes/theme1/bg.png   \n",
       "40054452             http://abs.twimg.com/images/themes/theme1/bg.png   \n",
       "40054452             http://abs.twimg.com/images/themes/theme1/bg.png   \n",
       "40054452             http://abs.twimg.com/images/themes/theme1/bg.png   \n",
       "40054452             http://abs.twimg.com/images/themes/theme1/bg.png   \n",
       "...                                                               ...   \n",
       "1136271795030560768                                               NaN   \n",
       "1064767899498414080                                               NaN   \n",
       "441078562            http://abs.twimg.com/images/themes/theme1/bg.png   \n",
       "16839146             http://abs.twimg.com/images/themes/theme9/bg.gif   \n",
       "16839146             http://abs.twimg.com/images/themes/theme9/bg.gif   \n",
       "\n",
       "                                                     profile_image_url  \\\n",
       "user_id                                                                  \n",
       "2835944929           http://pbs.twimg.com/profile_images/5175207969...   \n",
       "40054452             http://pbs.twimg.com/profile_images/6840094151...   \n",
       "40054452             http://pbs.twimg.com/profile_images/6840094151...   \n",
       "40054452             http://pbs.twimg.com/profile_images/6840094151...   \n",
       "40054452             http://pbs.twimg.com/profile_images/6840094151...   \n",
       "...                                                                ...   \n",
       "1136271795030560768  http://pbs.twimg.com/profile_images/1136272492...   \n",
       "1064767899498414080  http://pbs.twimg.com/profile_images/1229030300...   \n",
       "441078562            http://pbs.twimg.com/profile_images/7691851795...   \n",
       "16839146             http://pbs.twimg.com/profile_images/4440864751...   \n",
       "16839146             http://pbs.twimg.com/profile_images/4440864751...   \n",
       "\n",
       "                                                         stripped_text  \n",
       "user_id                                                                 \n",
       "2835944929           Grades are meaningless without feedback.\\nSo, ...  \n",
       "40054452             Discover easy digital tools and tactics you ca...  \n",
       "40054452             With online engagement increasing, it's a good...  \n",
       "40054452             10 ways to engage &; instruct students remotel...  \n",
       "40054452             Working from home can be quite the adjustment....  \n",
       "...                                                                ...  \n",
       "1136271795030560768  Putting work in on my canvas classes for my st...  \n",
       "1064767899498414080  I need this type of luck to comprehend online ...  \n",
       "441078562            I feel it is important to reach out so I will ...  \n",
       "16839146             I was so happy to hear that one of my ESL stud...  \n",
       "16839146             I was so happy to hear that one of my ESL stud...  \n",
       "\n",
       "[1786 rows x 91 columns]"
      ]
     },
     "execution_count": 6,
     "metadata": {},
     "output_type": "execute_result"
    }
   ],
   "source": [
    "df.set_index(df['user_id'])"
   ]
  },
  {
   "cell_type": "code",
   "execution_count": 7,
   "metadata": {},
   "outputs": [],
   "source": [
    "adj_matrix = pd.crosstab(df['user_id'].dropna().astype(int),df['reply_to_user_id'].dropna().astype(int))"
   ]
  },
  {
   "cell_type": "code",
   "execution_count": 8,
   "metadata": {},
   "outputs": [],
   "source": [
    "idx = adj_matrix.columns.union(adj_matrix.index)\n",
    "adj_matrix = adj_matrix.reindex(index = idx, columns=idx, fill_value=0)"
   ]
  },
  {
   "cell_type": "code",
   "execution_count": 9,
   "metadata": {},
   "outputs": [],
   "source": [
    "graph = nx.from_pandas_adjacency(adj_matrix,create_using=nx.path_graph(10))"
   ]
  },
  {
   "cell_type": "code",
   "execution_count": 10,
   "metadata": {},
   "outputs": [
    {
     "data": {
      "text/plain": [
       "1.271144278606965"
      ]
     },
     "execution_count": 10,
     "metadata": {},
     "output_type": "execute_result"
    }
   ],
   "source": [
    "np.array(list(nx.average_neighbor_degree(graph).values())).mean()"
   ]
  },
  {
   "cell_type": "code",
   "execution_count": 11,
   "metadata": {},
   "outputs": [
    {
     "data": {
      "text/plain": [
       "71"
      ]
     },
     "execution_count": 11,
     "metadata": {},
     "output_type": "execute_result"
    }
   ],
   "source": [
    "nx.number_connected_components(graph)"
   ]
  },
  {
   "cell_type": "code",
   "execution_count": 12,
   "metadata": {},
   "outputs": [
    {
     "data": {
      "text/plain": [
       "0.007462686567164179"
      ]
     },
     "execution_count": 12,
     "metadata": {},
     "output_type": "execute_result"
    }
   ],
   "source": [
    "nx.local_efficiency(graph)"
   ]
  },
  {
   "cell_type": "code",
   "execution_count": 13,
   "metadata": {},
   "outputs": [
    {
     "data": {
      "text/plain": [
       "0.008023790820334418"
      ]
     },
     "execution_count": 13,
     "metadata": {},
     "output_type": "execute_result"
    }
   ],
   "source": [
    "nx.global_efficiency(graph)"
   ]
  },
  {
   "cell_type": "code",
   "execution_count": 14,
   "metadata": {},
   "outputs": [
    {
     "data": {
      "text/plain": [
       "[0, 109, 22, 2, 0, 1]"
      ]
     },
     "execution_count": 14,
     "metadata": {},
     "output_type": "execute_result"
    }
   ],
   "source": [
    "nx.degree_histogram(graph)"
   ]
  },
  {
   "cell_type": "code",
   "execution_count": 15,
   "metadata": {},
   "outputs": [
    {
     "data": {
      "text/plain": [
       "0.00920210975199192"
      ]
     },
     "execution_count": 15,
     "metadata": {},
     "output_type": "execute_result"
    }
   ],
   "source": [
    "nx.density(graph)"
   ]
  },
  {
   "cell_type": "code",
   "execution_count": 16,
   "metadata": {},
   "outputs": [
    {
     "data": {
      "text/plain": [
       "'Name: \\nType: Graph\\nNumber of nodes: 134\\nNumber of edges: 82\\nAverage degree:   1.2239'"
      ]
     },
     "execution_count": 16,
     "metadata": {},
     "output_type": "execute_result"
    }
   ],
   "source": [
    "nx.info(graph)"
   ]
  },
  {
   "cell_type": "code",
   "execution_count": 17,
   "metadata": {},
   "outputs": [
    {
     "data": {
      "image/png": "[encoded data removed]",
      "text/plain": [
       "<Figure size 432x288 with 1 Axes>"
      ]
     },
     "metadata": {},
     "output_type": "display_data"
    }
   ],
   "source": [
    "nx.draw_circular(graph,node_size=10,node_color='#607c8e')"
   ]
  },
  {
   "cell_type": "markdown",
   "metadata": {},
   "source": [
    "Community analysis using Girvan-Newman Algorithm"
   ]
  },
  {
   "cell_type": "code",
   "execution_count": 18,
   "metadata": {},
   "outputs": [],
   "source": [
    "comp = community.girvan_newman(graph)"
   ]
  },
  {
   "cell_type": "code",
   "execution_count": 19,
   "metadata": {},
   "outputs": [],
   "source": [
    "communities = list(sorted(c) for c in next(comp))"
   ]
  },
  {
   "cell_type": "code",
   "execution_count": 20,
   "metadata": {},
   "outputs": [],
   "source": [
    "sorted_communities = sorted(communities,key=len,reverse=True)"
   ]
  },
  {
   "cell_type": "code",
   "execution_count": 21,
   "metadata": {},
   "outputs": [],
   "source": [
    "communities_distr = [len(x) for x in sorted_communities]"
   ]
  },
  {
   "cell_type": "code",
   "execution_count": 22,
   "metadata": {},
   "outputs": [
    {
     "data": {
      "image/png": "[encoded data removed]",
      "text/plain": [
       "<Figure size 432x288 with 1 Axes>"
      ]
     },
     "metadata": {
      "needs_background": "light"
     },
     "output_type": "display_data"
    }
   ],
   "source": [
    "pd.DataFrame(communities_distr).plot.hist(grid=True, rwidth=0.9, color='#607c8e')\n",
    "plt.title('Community Distributions')\n",
    "plt.xlabel('Size')\n",
    "plt.grid(axis='y', alpha=0.75)"
   ]
  }
 ],
 "metadata": {
  "kernelspec": {
   "display_name": "Python 3",
   "language": "python",
   "name": "python3"
  },
  "language_info": {
   "codemirror_mode": {
    "name": "ipython",
    "version": 3
   },
   "file_extension": ".py",
   "mimetype": "text/x-python",
   "name": "python",
   "nbconvert_exporter": "python",
   "pygments_lexer": "ipython3",
   "version": "3.7.6"
  }
 },
 "nbformat": 4,
 "nbformat_minor": 2
}
